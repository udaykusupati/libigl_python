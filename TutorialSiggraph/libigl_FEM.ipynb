{
 "cells": [
  {
   "cell_type": "markdown",
   "id": "fa7075f3",
   "metadata": {},
   "source": [
    "# Description\n",
    "\n",
    "This notebook is intended to test FEM capabilities using libigl bound to python.\n",
    "\n",
    "# Load libraries"
   ]
  },
  {
   "cell_type": "code",
   "execution_count": 1,
   "id": "244eed4a",
   "metadata": {},
   "outputs": [],
   "source": [
    "import igl\n",
    "import scipy as sp\n",
    "import numpy as np\n",
    "import meshplot as mp\n",
    "import matplotlib.pyplot as plt\n",
    "import time\n",
    "from IPython import display\n",
    "\n",
    "shadingOptions = {\n",
    "    \"flat\":True,\n",
    "    \"wireframe\":True,\n",
    "}"
   ]
  },
  {
   "cell_type": "markdown",
   "id": "f442af69",
   "metadata": {},
   "source": [
    "# Initial parameters\n",
    "\n",
    "## Initial mesh"
   ]
  },
  {
   "cell_type": "code",
   "execution_count": 2,
   "id": "8c03fd3a",
   "metadata": {},
   "outputs": [
    {
     "name": "stdout",
     "output_type": "stream",
     "text": [
      "===== Characteristics of the mesh =====\n",
      "Number of vertices: 198\n",
      "Number of tetrahedrons: 636\n"
     ]
    },
    {
     "data": {
      "application/vnd.jupyter.widget-view+json": {
       "model_id": "c122f1054b1a4beea8884ee93ee88a50",
       "version_major": 2,
       "version_minor": 0
      },
      "text/plain": [
       "Renderer(camera=PerspectiveCamera(children=(DirectionalLight(color='white', intensity=0.6, position=(0.0020764…"
      ]
     },
     "metadata": {},
     "output_type": "display_data"
    },
    {
     "data": {
      "text/plain": [
       "<meshplot.Viewer.Viewer at 0x7f805d842090>"
      ]
     },
     "execution_count": 2,
     "metadata": {},
     "output_type": "execute_result"
    }
   ],
   "source": [
    "# Read mesh and retrieve shape\n",
    "v, t = igl.read_msh(\"../meshes/ball.msh\")\n",
    "print(\"===== Characteristics of the mesh =====\")\n",
    "print(\"Number of vertices: {}\".format(v.shape[0]))\n",
    "print(\"Number of tetrahedrons: {}\".format(t.shape[0]))\n",
    "\n",
    "# Rubber characteristics\n",
    "rho     = 1.522 # [kg.m-3]\n",
    "young   = 0.1e9 # [Pa]\n",
    "poisson = 0.4   # [no unit]\n",
    "\n",
    "# Visualize\n",
    "mp.plot(v, t, shading=shadingOptions)"
   ]
  },
  {
   "cell_type": "code",
   "execution_count": 3,
   "id": "6b592cf2",
   "metadata": {},
   "outputs": [],
   "source": [
    "from ElasticObject import ElasticObject\n",
    "\n",
    "eo = ElasticObject(v, t, rho, young, poisson)"
   ]
  },
  {
   "cell_type": "markdown",
   "id": "de806fef",
   "metadata": {},
   "source": [
    "# Basis functions\n",
    "\n",
    "## Definition"
   ]
  },
  {
   "cell_type": "code",
   "execution_count": 4,
   "id": "8afccc37",
   "metadata": {},
   "outputs": [],
   "source": [
    "def inTriangle(X, Xtri):\n",
    "    '''\n",
    "    Input:\n",
    "    - X    : position of the point for which we test belonging\n",
    "    - Xtri : position of the triangle's vertices, row by row\n",
    "    \n",
    "    Output:\n",
    "    - isInside : whether the point belongs to the triangle or not\n",
    "    '''\n",
    "    abg      = np.linalg.solve(Xtri.T, X)\n",
    "    isInside = (abs(np.sum(abg) - 1) < 1e-9) and (0. <= abg <= 1.)\n",
    "    return isInside\n",
    "\n",
    "def inTet(X, Xtet):\n",
    "    '''\n",
    "    Input:\n",
    "    - X    : position of the point for which we test belonging\n",
    "    - Xtet : position of the tetrahedron's vertices, row by row\n",
    "    \n",
    "    Output:\n",
    "    - isInside : whether the point is inside the tet or not\n",
    "    '''\n",
    "    abg      = np.linalg.solve(Xtet[:3, :] - Xtet[3, :], X - Xtet[3, :])\n",
    "    isInside = (np.sum(abg) <= 1) and (0. <= abg <= 1.)\n",
    "    return isInside\n",
    "\n",
    "def basisEvalTri(v, f, X, v_id, f_id):\n",
    "    '''\n",
    "    Input:\n",
    "    - v    : position of the vertices of the mesh (nV, 3)\n",
    "    - f    : indices of the element's vertices (nE, 3)\n",
    "    - X    : position of the point for which we test belonging\n",
    "    - v_id : vertex id of the basis function\n",
    "    - f_id : face id of the \n",
    "    \n",
    "    Output:\n",
    "    - val : value of the basis function at X\n",
    "    '''\n",
    "    # Permute indices so that the first row in Xtri (see bellow) is v_id\n",
    "    # This is done so that the we preserve the sign of the signed area\n",
    "    nPerm   = np.argwhere(f[f_id] == v_id)[0, 0]\n",
    "    idxPerm = [(i+nPerm)%f.shape[1] for i in range(f.shape[1])]\n",
    "    \n",
    "    # Select with permutation\n",
    "    Xtri    = v[f[f_id]][idxPerm, :]\n",
    "    \n",
    "    # Compute gradients\n",
    "    dirOrt  = (Xtri[1, :] - Xtri[2, :]) / np.linalg.norm(Xtri[1, :] - Xtri[2, :])\n",
    "    gradDir = (Xtri[0, :] - Xtri[1, :]) - dirOrt @ (Xtri[0, :] - Xtri[1, :]) * dirOrt\n",
    "    grad    = gradDir / (gradDir @ (Xtri[0, :] - Xtri[1, :]))\n",
    "    \n",
    "    # Compute value:\n",
    "    val = grad @ (X - Xtri[1, :])\n",
    "    \n",
    "    return val\n",
    "\n",
    "def basisEvalTet(v, t, X, v_id, t_id):\n",
    "    '''\n",
    "    Input:\n",
    "    - v    : position of the vertices of the mesh (nV, 3)\n",
    "    - t    : indices of the element's vertices (nE, 4)\n",
    "    - X    : position of the point for which we test belonging\n",
    "    - v_id : vertex id of the basis function\n",
    "    - t_id : face id of the tetrahedron\n",
    "    \n",
    "    Output:\n",
    "    - val : value of the basis function at X\n",
    "    '''\n",
    "    # Permute indices so that the first row in Xtet (see bellow) is v_id\n",
    "    # This is done so that the we preserve the sign of the signed volume\n",
    "    nPerm   = np.argwhere(t[t_id] == v_id)[0, 0]\n",
    "    idxPerm = [(i+nPerm)%t.shape[1] for i in range(t.shape[1])]\n",
    "    \n",
    "    # Select with permutation\n",
    "    Xtet    = v[t[t_id]][idxPerm, :]\n",
    "    \n",
    "    # Compute gradients\n",
    "    gradDir = np.cross(Xtet[2, :] - Xtet[1, :], Xtet[3, :] - Xtet[1, :])\n",
    "    grad    = gradDir / (gradDir @ (Xtet[0, :] - Xtet[1, :]))\n",
    "    \n",
    "    # Compute value:\n",
    "    val = grad @ (X - Xtet[1, :])\n",
    "    \n",
    "    return val"
   ]
  },
  {
   "cell_type": "code",
   "execution_count": 5,
   "id": "73684034",
   "metadata": {},
   "outputs": [
    {
     "data": {
      "image/png": "[encoded data removed]",
      "text/plain": [
       "<Figure size 576x576 with 2 Axes>"
      ]
     },
     "metadata": {
      "needs_background": "light"
     },
     "output_type": "display_data"
    }
   ],
   "source": [
    "testV = np.array([[0., 0., 0.],\n",
    "                  [0., 1., 0.],\n",
    "                  [2., 0., 0.]])\n",
    "\n",
    "testF = np.array([[0, 1, 2]])\n",
    "\n",
    "# Barycentric coordinates\n",
    "as_, bs_ = np.linspace(0, 1), np.linspace(0, 1)\n",
    "\n",
    "abgs = []\n",
    "for a in as_:\n",
    "    for b in bs_:\n",
    "        g = 1. - a - b\n",
    "        if g >= 0:\n",
    "            abgs.append([a, b, g])\n",
    "                \n",
    "ABGs = np.array(abgs)\n",
    "\n",
    "# Points coordinates\n",
    "pointsPlot = ABGs @ testV[testF[0]]\n",
    "\n",
    "# Compute basis function value\n",
    "vals = np.zeros(shape=pointsPlot.shape[0])\n",
    "for i, point in enumerate(pointsPlot):\n",
    "    vals[i] = basisEvalTri(testV, testF, point, 0, 0)\n",
    "\n",
    "plt.figure(figsize=(8, 8))\n",
    "sc = plt.scatter(pointsPlot[:, 0], pointsPlot[:, 1], c=vals)\n",
    "plt.colorbar(sc)\n",
    "plt.axis('equal')\n",
    "plt.show()"
   ]
  },
  {
   "cell_type": "markdown",
   "id": "dbe6a641",
   "metadata": {},
   "source": [
    "## Gradients"
   ]
  },
  {
   "cell_type": "code",
   "execution_count": 6,
   "id": "d5a6873b",
   "metadata": {},
   "outputs": [],
   "source": [
    "def basisGradEvalTri(v, f, X, v_id, f_id):\n",
    "    '''\n",
    "    Input:\n",
    "    - v    : position of the vertices of the mesh (nV, 3)\n",
    "    - f    : indices of the element's vertices (nE, 3)\n",
    "    - X    : position of the point for which we test belonging\n",
    "    - v_id : vertex id of the basis function\n",
    "    - f_id : face id of the \n",
    "    \n",
    "    Output:\n",
    "    - grad : value of the gradient of the basis function at X\n",
    "    '''\n",
    "    # Permute indices so that the first row in Xtri (see bellow) is v_id\n",
    "    # This is done so that the we preserve the sign of the signed area\n",
    "    nPerm   = np.argwhere(f[f_id] == v_id)[0, 0]\n",
    "    idxPerm = [(i+nPerm)%f.shape[1] for i in range(f.shape[1])]\n",
    "    \n",
    "    # Select with permutation\n",
    "    Xtri    = v[f[f_id]][idxPerm, :]\n",
    "    \n",
    "    # Compute gradients\n",
    "    dirOrt  = (Xtri[1, :] - Xtri[2, :]) / np.linalg.norm(Xtri[1, :] - Xtri[2, :])\n",
    "    gradDir = (Xtri[0, :] - Xtri[1, :]) - dirOrt @ (Xtri[0, :] - Xtri[1, :]) * dirOrt\n",
    "    grad    = gradDir / (gradDir @ (Xtri[0, :] - Xtri[1, :]) + 1e-5)\n",
    "    \n",
    "    return grad\n",
    "\n",
    "def basisGradEvalTet(v, t, X, v_id, t_id):\n",
    "    '''\n",
    "    Input:\n",
    "    - v    : position of the vertices of the mesh (nV, 3)\n",
    "    - t    : indices of the element's vertices (nE, 4)\n",
    "    - X    : position of the point for which we test belonging\n",
    "    - v_id : vertex id of the basis function\n",
    "    - t_id : tet id\n",
    "    \n",
    "    Output:\n",
    "    - grad : value of the gradient of the basis function at X\n",
    "    '''\n",
    "    # Permute indices so that the first row in Xtet (see bellow) is v_id\n",
    "    # This is done so that the we preserve the sign of the signed volume\n",
    "    nPerm   = np.argwhere(t[t_id] == v_id)[0, 0]\n",
    "    idxPerm = [(i+nPerm)%t.shape[1] for i in range(t.shape[1])]\n",
    "    \n",
    "    # Select with permutation\n",
    "    Xtet    = v[t[t_id]][idxPerm, :]\n",
    "    \n",
    "    # Compute gradients\n",
    "    gradDir = np.cross(Xtet[2, :] - Xtet[1, :], Xtet[3, :] - Xtet[1, :])\n",
    "    grad    = gradDir / (gradDir @ (Xtet[0, :] - Xtet[1, :]))\n",
    "    \n",
    "    return grad"
   ]
  },
  {
   "cell_type": "markdown",
   "id": "f4936b29",
   "metadata": {},
   "source": [
    "# Explicit time integration\n",
    "\n",
    "## Precomputation"
   ]
  },
  {
   "cell_type": "code",
   "execution_count": 7,
   "id": "436b7576",
   "metadata": {},
   "outputs": [
    {
     "name": "stdout",
     "output_type": "stream",
     "text": [
      "Proportion of positive volumes: 1.00\n"
     ]
    }
   ],
   "source": [
    "eo.Precomputation()\n",
    "print(\"Proportion of positive volumes: {:.2f}\".format(np.mean(eo.initVols > 0)))"
   ]
  },
  {
   "cell_type": "markdown",
   "id": "6810ac32",
   "metadata": {},
   "source": [
    "## Elastic Forces"
   ]
  },
  {
   "cell_type": "code",
   "execution_count": 8,
   "id": "8eca0222",
   "metadata": {},
   "outputs": [
    {
     "data": {
      "application/vnd.jupyter.widget-view+json": {
       "model_id": "fe9a8deff428451db5b6cfad333cd1b8",
       "version_major": 2,
       "version_minor": 0
      },
      "text/plain": [
       "Renderer(camera=PerspectiveCamera(children=(DirectionalLight(color='white', intensity=0.6, position=(-0.003258…"
      ]
     },
     "metadata": {},
     "output_type": "display_data"
    },
    {
     "data": {
      "text/plain": [
       "1"
      ]
     },
     "execution_count": 8,
     "metadata": {},
     "output_type": "execute_result"
    }
   ],
   "source": [
    "randPert = 0.02 * np.random.uniform(low=-1., high=1., size=v.shape)\n",
    "forces = eo.ComputeElasticForces(v + randPert)\n",
    "\n",
    "p = mp.plot(v + randPert, t, shading=shadingOptions)\n",
    "p.add_lines(v + randPert, v + randPert + 1e-7*forces)"
   ]
  },
  {
   "cell_type": "markdown",
   "id": "2596d03c",
   "metadata": {},
   "source": [
    "## Explicit time integration"
   ]
  },
  {
   "cell_type": "code",
   "execution_count": 9,
   "id": "ac2cb452",
   "metadata": {
    "scrolled": false
   },
   "outputs": [
    {
     "data": {
      "application/vnd.jupyter.widget-view+json": {
       "model_id": "287ba16c6cc442d0bfff20b40eb41a02",
       "version_major": 2,
       "version_minor": 0
      },
      "text/plain": [
       "Renderer(camera=PerspectiveCamera(children=(DirectionalLight(color='white', intensity=0.6, position=(0.0020766…"
      ]
     },
     "metadata": {},
     "output_type": "display_data"
    }
   ],
   "source": [
    "# %%capture\n",
    "\n",
    "randPert = 0.04 * np.random.uniform(low=-1., high=1., size=v.shape)\n",
    "initPert = np.zeros_like(v)\n",
    "initPert[110, 1] = 0.1\n",
    "nSteps   = 10\n",
    "dt       = 1e-6\n",
    "\n",
    "# vTmp    = v + randPert\n",
    "vTmp    = v + initPert\n",
    "velTmp  = np.zeros(shape=vTmp.shape)\n",
    "\n",
    "for step in range(nSteps):\n",
    "    display.clear_output(wait=True)\n",
    "    forces  = eo.ComputeElasticForces(vTmp)\n",
    "    massTmp = np.diag(eo.ComputeMassMatrix(vTmp, lumped=True))\n",
    "    velTmp += dt * np.diag(1 / (rho * massTmp)) @ forces # only works for diagonal matrices\n",
    "    vTmp   += dt * velTmp\n",
    "    p = mp.plot(vTmp, t, shading=shadingOptions)\n",
    "#     p.save(\"output/explicitSphere/step{}\".format(step))\n",
    "    time.sleep(0.001)"
   ]
  },
  {
   "cell_type": "code",
   "execution_count": 1,
   "id": "e2c08a1c",
   "metadata": {},
   "outputs": [
    {
     "ename": "ValueError",
     "evalue": "row, column, and data arrays must be 1-D",
     "output_type": "error",
     "traceback": [
      "\u001b[0;31m---------------------------------------------------------------------------\u001b[0m",
      "\u001b[0;31mValueError\u001b[0m                                Traceback (most recent call last)",
      "\u001b[0;32m<ipython-input-1-3ade8c85aa00>\u001b[0m in \u001b[0;36m<module>\u001b[0;34m\u001b[0m\n\u001b[1;32m     15\u001b[0m \u001b[0;34m\u001b[0m\u001b[0m\n\u001b[1;32m     16\u001b[0m \u001b[0mdata2\u001b[0m \u001b[0;34m=\u001b[0m \u001b[0mdata\u001b[0m\u001b[0;34m[\u001b[0m\u001b[0mj\u001b[0m\u001b[0;34m]\u001b[0m\u001b[0;34m\u001b[0m\u001b[0;34m\u001b[0m\u001b[0m\n\u001b[0;32m---> 17\u001b[0;31m \u001b[0mm\u001b[0m \u001b[0;34m=\u001b[0m \u001b[0msparse\u001b[0m\u001b[0;34m.\u001b[0m\u001b[0mcoo_matrix\u001b[0m\u001b[0;34m(\u001b[0m\u001b[0;34m(\u001b[0m\u001b[0mdata2\u001b[0m\u001b[0;34m,\u001b[0m \u001b[0;34m(\u001b[0m\u001b[0mi\u001b[0m\u001b[0;34m,\u001b[0m \u001b[0mj\u001b[0m\u001b[0;34m)\u001b[0m\u001b[0;34m)\u001b[0m\u001b[0;34m,\u001b[0m \u001b[0;34m(\u001b[0m\u001b[0mnV\u001b[0m\u001b[0;34m,\u001b[0m \u001b[0mnT\u001b[0m\u001b[0;34m)\u001b[0m\u001b[0;34m)\u001b[0m\u001b[0;34m\u001b[0m\u001b[0;34m\u001b[0m\u001b[0m\n\u001b[0m\u001b[1;32m     18\u001b[0m \u001b[0mprint\u001b[0m\u001b[0;34m(\u001b[0m\u001b[0mnp\u001b[0m\u001b[0;34m.\u001b[0m\u001b[0marray\u001b[0m\u001b[0;34m(\u001b[0m\u001b[0mm\u001b[0m\u001b[0;34m)\u001b[0m\u001b[0;34m)\u001b[0m\u001b[0;34m\u001b[0m\u001b[0;34m\u001b[0m\u001b[0m\n\u001b[1;32m     19\u001b[0m \u001b[0mprint\u001b[0m\u001b[0;34m(\u001b[0m\u001b[0mnp\u001b[0m\u001b[0;34m.\u001b[0m\u001b[0marray\u001b[0m\u001b[0;34m(\u001b[0m\u001b[0mm\u001b[0m\u001b[0;34m.\u001b[0m\u001b[0msum\u001b[0m\u001b[0;34m(\u001b[0m\u001b[0maxis\u001b[0m\u001b[0;34m=\u001b[0m\u001b[0;36m1\u001b[0m\u001b[0;34m)\u001b[0m\u001b[0;34m)\u001b[0m\u001b[0;34m.\u001b[0m\u001b[0mflatten\u001b[0m\u001b[0;34m(\u001b[0m\u001b[0;34m)\u001b[0m\u001b[0;34m)\u001b[0m\u001b[0;34m\u001b[0m\u001b[0;34m\u001b[0m\u001b[0m\n",
      "\u001b[0;32m~/opt/anaconda3/envs/gcm_env/lib/python3.7/site-packages/scipy/sparse/coo.py\u001b[0m in \u001b[0;36m__init__\u001b[0;34m(self, arg1, shape, dtype, copy)\u001b[0m\n\u001b[1;32m    194\u001b[0m             \u001b[0mself\u001b[0m\u001b[0;34m.\u001b[0m\u001b[0mdata\u001b[0m \u001b[0;34m=\u001b[0m \u001b[0mself\u001b[0m\u001b[0;34m.\u001b[0m\u001b[0mdata\u001b[0m\u001b[0;34m.\u001b[0m\u001b[0mastype\u001b[0m\u001b[0;34m(\u001b[0m\u001b[0mdtype\u001b[0m\u001b[0;34m,\u001b[0m \u001b[0mcopy\u001b[0m\u001b[0;34m=\u001b[0m\u001b[0;32mFalse\u001b[0m\u001b[0;34m)\u001b[0m\u001b[0;34m\u001b[0m\u001b[0;34m\u001b[0m\u001b[0m\n\u001b[1;32m    195\u001b[0m \u001b[0;34m\u001b[0m\u001b[0m\n\u001b[0;32m--> 196\u001b[0;31m         \u001b[0mself\u001b[0m\u001b[0;34m.\u001b[0m\u001b[0m_check\u001b[0m\u001b[0;34m(\u001b[0m\u001b[0;34m)\u001b[0m\u001b[0;34m\u001b[0m\u001b[0;34m\u001b[0m\u001b[0m\n\u001b[0m\u001b[1;32m    197\u001b[0m \u001b[0;34m\u001b[0m\u001b[0m\n\u001b[1;32m    198\u001b[0m     \u001b[0;32mdef\u001b[0m \u001b[0mreshape\u001b[0m\u001b[0;34m(\u001b[0m\u001b[0mself\u001b[0m\u001b[0;34m,\u001b[0m \u001b[0;34m*\u001b[0m\u001b[0margs\u001b[0m\u001b[0;34m,\u001b[0m \u001b[0;34m**\u001b[0m\u001b[0mkwargs\u001b[0m\u001b[0;34m)\u001b[0m\u001b[0;34m:\u001b[0m\u001b[0;34m\u001b[0m\u001b[0;34m\u001b[0m\u001b[0m\n",
      "\u001b[0;32m~/opt/anaconda3/envs/gcm_env/lib/python3.7/site-packages/scipy/sparse/coo.py\u001b[0m in \u001b[0;36m_check\u001b[0;34m(self)\u001b[0m\n\u001b[1;32m    279\u001b[0m         \u001b[0mself\u001b[0m\u001b[0;34m.\u001b[0m\u001b[0mdata\u001b[0m \u001b[0;34m=\u001b[0m \u001b[0mto_native\u001b[0m\u001b[0;34m(\u001b[0m\u001b[0mself\u001b[0m\u001b[0;34m.\u001b[0m\u001b[0mdata\u001b[0m\u001b[0;34m)\u001b[0m\u001b[0;34m\u001b[0m\u001b[0;34m\u001b[0m\u001b[0m\n\u001b[1;32m    280\u001b[0m \u001b[0;34m\u001b[0m\u001b[0m\n\u001b[0;32m--> 281\u001b[0;31m         \u001b[0;32mif\u001b[0m \u001b[0mself\u001b[0m\u001b[0;34m.\u001b[0m\u001b[0mnnz\u001b[0m \u001b[0;34m>\u001b[0m \u001b[0;36m0\u001b[0m\u001b[0;34m:\u001b[0m\u001b[0;34m\u001b[0m\u001b[0;34m\u001b[0m\u001b[0m\n\u001b[0m\u001b[1;32m    282\u001b[0m             \u001b[0;32mif\u001b[0m \u001b[0mself\u001b[0m\u001b[0;34m.\u001b[0m\u001b[0mrow\u001b[0m\u001b[0;34m.\u001b[0m\u001b[0mmax\u001b[0m\u001b[0;34m(\u001b[0m\u001b[0;34m)\u001b[0m \u001b[0;34m>=\u001b[0m \u001b[0mself\u001b[0m\u001b[0;34m.\u001b[0m\u001b[0mshape\u001b[0m\u001b[0;34m[\u001b[0m\u001b[0;36m0\u001b[0m\u001b[0;34m]\u001b[0m\u001b[0;34m:\u001b[0m\u001b[0;34m\u001b[0m\u001b[0;34m\u001b[0m\u001b[0m\n\u001b[1;32m    283\u001b[0m                 \u001b[0;32mraise\u001b[0m \u001b[0mValueError\u001b[0m\u001b[0;34m(\u001b[0m\u001b[0;34m'row index exceeds matrix dimensions'\u001b[0m\u001b[0;34m)\u001b[0m\u001b[0;34m\u001b[0m\u001b[0;34m\u001b[0m\u001b[0m\n",
      "\u001b[0;32m~/opt/anaconda3/envs/gcm_env/lib/python3.7/site-packages/scipy/sparse/base.py\u001b[0m in \u001b[0;36mnnz\u001b[0;34m(self)\u001b[0m\n\u001b[1;32m    244\u001b[0m         \u001b[0mcount_nonzero\u001b[0m \u001b[0;34m:\u001b[0m \u001b[0mNumber\u001b[0m \u001b[0mof\u001b[0m \u001b[0mnon\u001b[0m\u001b[0;34m-\u001b[0m\u001b[0mzero\u001b[0m \u001b[0mentries\u001b[0m\u001b[0;34m\u001b[0m\u001b[0;34m\u001b[0m\u001b[0m\n\u001b[1;32m    245\u001b[0m         \"\"\"\n\u001b[0;32m--> 246\u001b[0;31m         \u001b[0;32mreturn\u001b[0m \u001b[0mself\u001b[0m\u001b[0;34m.\u001b[0m\u001b[0mgetnnz\u001b[0m\u001b[0;34m(\u001b[0m\u001b[0;34m)\u001b[0m\u001b[0;34m\u001b[0m\u001b[0;34m\u001b[0m\u001b[0m\n\u001b[0m\u001b[1;32m    247\u001b[0m \u001b[0;34m\u001b[0m\u001b[0m\n\u001b[1;32m    248\u001b[0m     \u001b[0;32mdef\u001b[0m \u001b[0mgetformat\u001b[0m\u001b[0;34m(\u001b[0m\u001b[0mself\u001b[0m\u001b[0;34m)\u001b[0m\u001b[0;34m:\u001b[0m\u001b[0;34m\u001b[0m\u001b[0;34m\u001b[0m\u001b[0m\n",
      "\u001b[0;32m~/opt/anaconda3/envs/gcm_env/lib/python3.7/site-packages/scipy/sparse/coo.py\u001b[0m in \u001b[0;36mgetnnz\u001b[0;34m(self, axis)\u001b[0m\n\u001b[1;32m    246\u001b[0m             \u001b[0;32mif\u001b[0m \u001b[0mself\u001b[0m\u001b[0;34m.\u001b[0m\u001b[0mdata\u001b[0m\u001b[0;34m.\u001b[0m\u001b[0mndim\u001b[0m \u001b[0;34m!=\u001b[0m \u001b[0;36m1\u001b[0m \u001b[0;32mor\u001b[0m \u001b[0mself\u001b[0m\u001b[0;34m.\u001b[0m\u001b[0mrow\u001b[0m\u001b[0;34m.\u001b[0m\u001b[0mndim\u001b[0m \u001b[0;34m!=\u001b[0m \u001b[0;36m1\u001b[0m \u001b[0;32mor\u001b[0m\u001b[0;31m \u001b[0m\u001b[0;31m\\\u001b[0m\u001b[0;34m\u001b[0m\u001b[0;34m\u001b[0m\u001b[0m\n\u001b[1;32m    247\u001b[0m                     \u001b[0mself\u001b[0m\u001b[0;34m.\u001b[0m\u001b[0mcol\u001b[0m\u001b[0;34m.\u001b[0m\u001b[0mndim\u001b[0m \u001b[0;34m!=\u001b[0m \u001b[0;36m1\u001b[0m\u001b[0;34m:\u001b[0m\u001b[0;34m\u001b[0m\u001b[0;34m\u001b[0m\u001b[0m\n\u001b[0;32m--> 248\u001b[0;31m                 \u001b[0;32mraise\u001b[0m \u001b[0mValueError\u001b[0m\u001b[0;34m(\u001b[0m\u001b[0;34m'row, column, and data arrays must be 1-D'\u001b[0m\u001b[0;34m)\u001b[0m\u001b[0;34m\u001b[0m\u001b[0;34m\u001b[0m\u001b[0m\n\u001b[0m\u001b[1;32m    249\u001b[0m \u001b[0;34m\u001b[0m\u001b[0m\n\u001b[1;32m    250\u001b[0m             \u001b[0;32mreturn\u001b[0m \u001b[0mint\u001b[0m\u001b[0;34m(\u001b[0m\u001b[0mnnz\u001b[0m\u001b[0;34m)\u001b[0m\u001b[0;34m\u001b[0m\u001b[0;34m\u001b[0m\u001b[0m\n",
      "\u001b[0;31mValueError\u001b[0m: row, column, and data arrays must be 1-D"
     ]
    }
   ],
   "source": [
    "import numpy as np \n",
    "from scipy import sparse\n",
    "\n",
    "nT = 2\n",
    "nV = 5\n",
    "\n",
    "tets = np.array([[0, 1, 2, 3], [0, 2, 1, 4]])\n",
    "data = np.zeros(shape=(nT, 2))\n",
    "data[:, 0] = np.linspace(0, 1, nT) + 0.5\n",
    "data[:, 1] = np.linspace(0, 1, nT) + 0.5 + nT\n",
    "\n",
    "i = tets.flatten('F')\n",
    "j = np.arange(nT)\n",
    "j = np.tile(j, 4)\n",
    "\n",
    "data2 = data[j]\n",
    "m = sparse.coo_matrix((data2, (i, j)), (nV, nT))\n",
    "print(np.array(m))\n",
    "print(np.array(m.sum(axis=1)).flatten())"
   ]
  },
  {
   "cell_type": "markdown",
   "id": "a8568c08",
   "metadata": {},
   "source": [
    "# Implicit time integration\n",
    "\n",
    "## Mass matrix computation"
   ]
  },
  {
   "cell_type": "code",
   "execution_count": null,
   "id": "f518065e",
   "metadata": {},
   "outputs": [],
   "source": [
    "mass = eo.ComputeMassMatrix(v, lumped=True)\n",
    "mass[:5, :5]"
   ]
  },
  {
   "cell_type": "markdown",
   "id": "d2e7b6ee",
   "metadata": {},
   "source": [
    "## Force differential"
   ]
  },
  {
   "cell_type": "code",
   "execution_count": null,
   "id": "81897b1e",
   "metadata": {},
   "outputs": [],
   "source": [
    "initPert = np.zeros_like(v)\n",
    "initPert[110, 1] = 0.1\n",
    "\n",
    "dForces = eo.ComputeForceDifferentials(v + initPert, initPert)\n",
    "print(dForces.shape)"
   ]
  },
  {
   "cell_type": "markdown",
   "id": "dc91df3e",
   "metadata": {},
   "source": [
    "## Conjugate Gradient"
   ]
  },
  {
   "cell_type": "code",
   "execution_count": null,
   "id": "40bdc2ce",
   "metadata": {},
   "outputs": [],
   "source": [
    "def ConjugateGradient(AxMethod, b, x0=None, eps=1e-9, maxSteps=None):\n",
    "    '''\n",
    "    We intend to solve Ax = b where A is positive definite.\n",
    "    A has shape (dim, dim), x and b have shape (dim, n).\n",
    "    \n",
    "    \n",
    "    Input:\n",
    "    - AxMethod : a method that takes x and returns the product Ax\n",
    "    - b        : right hand side of the linear system\n",
    "    - x0       : initial guess for x0 (defaults to 0s)\n",
    "    - eps      : tolerance on the residual magnitude\n",
    "    - maxSteps : maximum number of steps one wants to run (defaults to dim)\n",
    "    \n",
    "    Output:\n",
    "    - xStar : np array of shape (dim, n) solving the linear system\n",
    "    '''\n",
    "    \n",
    "    dim, n = b.shape\n",
    "    if maxSteps is None:\n",
    "        maxSteps = dim\n",
    "        \n",
    "    if x0 is None:\n",
    "        xStar = np.zeros_like(b)\n",
    "    else:\n",
    "        xStar = x0\n",
    "        \n",
    "    residuals  = b - AxMethod(xStar)\n",
    "    directions = residuals\n",
    "    \n",
    "    # Reusable quantities\n",
    "    A_directions = AxMethod(directions) # A p\n",
    "    resNormsSq   = np.sum(residuals**2, axis=0) # r^T r\n",
    "    dirNormsSqA  = np.zeros(shape=(n,)) # stores p^T A p\n",
    "    for i in range(n):\n",
    "        dirNormsSqA[i] = directions[:, i] @ A_directions[:, i]\n",
    "    \n",
    "    for k in range(maxSteps):\n",
    "\n",
    "        alphas     = resNormsSq / dirNormsSqA\n",
    "\n",
    "        xStar     = xStar + directions * alphas\n",
    "        residuals = residuals - A_directions * alphas\n",
    "        \n",
    "        newResNormsSq = np.sum(residuals**2, axis=0)\n",
    "        if max(np.sqrt(newResNormsSq)) < eps:\n",
    "            # Stop if tolerance is satisfied\n",
    "            break\n",
    "            \n",
    "        betas      = newResNormsSq / resNormsSq\n",
    "        directions = residuals + directions * betas\n",
    "        A_directions = AxMethod(directions)\n",
    "        resNormsSq   = newResNormsSq\n",
    "        for i in range(n):\n",
    "            dirNormsSqA[i] = directions[:, i] @ A_directions[:, i]\n",
    "        \n",
    "    return xStar"
   ]
  },
  {
   "cell_type": "markdown",
   "id": "a4913462",
   "metadata": {},
   "source": [
    "### Testing on a simple case"
   ]
  },
  {
   "cell_type": "code",
   "execution_count": null,
   "id": "246c76f8",
   "metadata": {},
   "outputs": [],
   "source": [
    "from scipy.sparse.linalg import cg, eigsh, LinearOperator\n",
    "\n",
    "randMat = np.random.rand(3, 3)\n",
    "A = randMat @ randMat.T + 1e-3 * np.eye(randMat.shape[0]) # Make it positive definite\n",
    "w = eigsh(A, return_eigenvectors=False)\n",
    "print(\"Number of non positive eigenvalues: {}\\n\".format(sum(w<=0)))\n",
    "b = np.random.rand(3, 1)\n",
    "\n",
    "AxMethod = lambda x: A @ x\n",
    "LOp = LinearOperator(A.shape, AxMethod)\n",
    "\n",
    "solScipy, info = cg(LOp, b)\n",
    "print(\"==== Solution found by scipy ====\")\n",
    "print(\"Residual norm: {:.3f}\".format(np.linalg.norm(A @ solScipy.reshape(-1, b.shape[1]) - b)))\n",
    "print(\"The solution is: {}\\n\".format(solScipy))\n",
    "\n",
    "sol = ConjugateGradient(AxMethod, b, x0=None, eps=1e-9, maxSteps=None)\n",
    "print(\"==== Solution found by homemade method ====\")\n",
    "print(\"Residual norm: {:.3f}\".format(np.linalg.norm(A @ sol - b)))\n",
    "print(\"The solution is: {}\".format(sol))"
   ]
  },
  {
   "cell_type": "markdown",
   "id": "17b103fe",
   "metadata": {},
   "source": [
    "## Implicit time integration"
   ]
  },
  {
   "cell_type": "code",
   "execution_count": null,
   "id": "f59dea1b",
   "metadata": {},
   "outputs": [],
   "source": [
    "# %%capture\n",
    "\n",
    "randPert  = 0.04 * np.random.uniform(low=-1., high=1., size=v.shape)\n",
    "initPert = np.zeros_like(v)\n",
    "initPert[110, 1] = 0.1\n",
    "nSteps    = 50\n",
    "nSubsteps = 2\n",
    "dt        = 3e-6  # [s]\n",
    "gamma     = 0     # should be turned off, this doesn't work yet [s]\n",
    "\n",
    "# vTmp    = v + randPert\n",
    "vTmp    = v + initPert\n",
    "velTmp  = np.zeros(shape=vTmp.shape)\n",
    "\n",
    "velTmpCorrection = velTmp\n",
    "vTmpCorrection   = vTmp\n",
    "deltaV = np.zeros_like(vTmp)\n",
    "\n",
    "for step in range(nSteps):\n",
    "    display.clear_output(wait=True)\n",
    "    for substep in range(nSubsteps):\n",
    "        # Mass matrix\n",
    "        massTmp = eo.rho * eo.ComputeMassMatrix(vTmp, lumped=True)\n",
    "        # Damping \n",
    "        dForces = - gamma * eo.ComputeForceDifferentials(vTmpCorrection, velTmpCorrection)\n",
    "        #Elastic\n",
    "        eForces  = eo.ComputeElasticForces(vTmpCorrection)\n",
    "        #Total\n",
    "        totForces = eForces + dForces\n",
    "        \n",
    "        #Invert system\n",
    "        LHSMethod = lambda dV : (1/dt**2 * massTmp @ dV + (1 + gamma/dt) * eo.ComputeForceDifferentials(vTmpCorrection, dV))\n",
    "        RHS    = 1/dt * massTmp @ (velTmp - velTmpCorrection) + totForces\n",
    "        deltaV = ConjugateGradient(LHSMethod, RHS, x0=None, maxSteps=None, eps=1e-3)\n",
    "        \n",
    "        #Update position and velocities\n",
    "        vTmpCorrection   += deltaV\n",
    "        velTmpCorrection += deltaV / dt\n",
    "    \n",
    "    #Update position and velocities, then start a new time step\n",
    "    vTmp   = vTmpCorrection\n",
    "    velTmp = velTmpCorrection\n",
    "    \n",
    "    p = mp.plot(vTmp, t, shading=shadingOptions)\n",
    "#     p.save(\"output/explicitSphere/step{}\".format(step))\n",
    "    time.sleep(0.02)"
   ]
  },
  {
   "cell_type": "code",
   "execution_count": null,
   "id": "4d04a44f",
   "metadata": {},
   "outputs": [],
   "source": []
  }
 ],
 "metadata": {
  "kernelspec": {
   "display_name": "Python 3",
   "language": "python",
   "name": "python3"
  },
  "language_info": {
   "codemirror_mode": {
    "name": "ipython",
    "version": 3
   },
   "file_extension": ".py",
   "mimetype": "text/x-python",
   "name": "python",
   "nbconvert_exporter": "python",
   "pygments_lexer": "ipython3",
   "version": "3.7.10"
  },
  "toc": {
   "base_numbering": 1,
   "nav_menu": {},
   "number_sections": true,
   "sideBar": true,
   "skip_h1_title": false,
   "title_cell": "Table of Contents",
   "title_sidebar": "Contents",
   "toc_cell": false,
   "toc_position": {},
   "toc_section_display": true,
   "toc_window_display": false
  }
 },
 "nbformat": 4,
 "nbformat_minor": 5
}
