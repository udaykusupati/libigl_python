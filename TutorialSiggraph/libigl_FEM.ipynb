{
 "cells": [
  {
   "cell_type": "markdown",
   "id": "fa7075f3",
   "metadata": {},
   "source": [
    "# Description\n",
    "\n",
    "This notebook is intended to test FEM capabilities using libigl bound to python.\n",
    "\n",
    "# Load libraries"
   ]
  },
  {
   "cell_type": "code",
   "execution_count": 1,
   "id": "244eed4a",
   "metadata": {},
   "outputs": [],
   "source": [
    "import igl\n",
    "import scipy as sp\n",
    "import numpy as np\n",
    "import meshplot as mp\n",
    "import matplotlib.pyplot as plt\n",
    "import time\n",
    "from IPython import display\n",
    "\n",
    "shadingOptions = {\n",
    "    \"flat\":True,\n",
    "    \"wireframe\":True,\n",
    "}"
   ]
  },
  {
   "cell_type": "markdown",
   "id": "f442af69",
   "metadata": {},
   "source": [
    "# Initial parameters\n",
    "\n",
    "## Initial mesh"
   ]
  },
  {
   "cell_type": "code",
   "execution_count": 2,
   "id": "8c03fd3a",
   "metadata": {},
   "outputs": [
    {
     "name": "stdout",
     "output_type": "stream",
     "text": [
      "===== Characteristics of the mesh =====\n",
      "Number of vertices: 198\n",
      "Number of tetrahedrons: 636\n"
     ]
    },
    {
     "data": {
      "application/vnd.jupyter.widget-view+json": {
       "model_id": "45f81d57ffa14a64860050237d51af46",
       "version_major": 2,
       "version_minor": 0
      },
      "text/plain": [
       "Renderer(camera=PerspectiveCamera(children=(DirectionalLight(color='white', intensity=0.6, position=(0.0020764…"
      ]
     },
     "metadata": {},
     "output_type": "display_data"
    },
    {
     "data": {
      "text/plain": [
       "<meshplot.Viewer.Viewer at 0x7fc9abb72310>"
      ]
     },
     "execution_count": 2,
     "metadata": {},
     "output_type": "execute_result"
    }
   ],
   "source": [
    "# Read mesh and retrieve shape\n",
    "v, t = igl.read_msh(\"../meshes/ball.msh\")\n",
    "print(\"===== Characteristics of the mesh =====\")\n",
    "print(\"Number of vertices: {}\".format(v.shape[0]))\n",
    "print(\"Number of tetrahedrons: {}\".format(t.shape[0]))\n",
    "\n",
    "# Rubber characteristics\n",
    "rho     = 1.522 # [kg.m-3]\n",
    "young   = 0.1e9 # [Pa]\n",
    "poisson = 0.4   # [no unit]\n",
    "\n",
    "# Visualize\n",
    "mp.plot(v, t, shading=shadingOptions)"
   ]
  },
  {
   "cell_type": "code",
   "execution_count": 3,
   "id": "6b592cf2",
   "metadata": {},
   "outputs": [],
   "source": [
    "from ElasticObject import ElasticObject\n",
    "\n",
    "eo = ElasticObject(v, t, rho, young, poisson)"
   ]
  },
  {
   "cell_type": "markdown",
   "id": "de806fef",
   "metadata": {},
   "source": [
    "# Basis functions\n",
    "\n",
    "## Definition"
   ]
  },
  {
   "cell_type": "code",
   "execution_count": 4,
   "id": "8afccc37",
   "metadata": {},
   "outputs": [],
   "source": [
    "def inTriangle(X, Xtri):\n",
    "    '''\n",
    "    Input:\n",
    "    - X    : position of the point for which we test belonging\n",
    "    - Xtri : position of the triangle's vertices, row by row\n",
    "    \n",
    "    Output:\n",
    "    - isInside : whether the point belongs to the triangle or not\n",
    "    '''\n",
    "    abg      = np.linalg.solve(Xtri.T, X)\n",
    "    isInside = (abs(np.sum(abg) - 1) < 1e-9) and (0. <= abg <= 1.)\n",
    "    return isInside\n",
    "\n",
    "def inTet(X, Xtet):\n",
    "    '''\n",
    "    Input:\n",
    "    - X    : position of the point for which we test belonging\n",
    "    - Xtet : position of the tetrahedron's vertices, row by row\n",
    "    \n",
    "    Output:\n",
    "    - isInside : whether the point is inside the tet or not\n",
    "    '''\n",
    "    abg      = np.linalg.solve(Xtet[:3, :] - Xtet[3, :], X - Xtet[3, :])\n",
    "    isInside = (np.sum(abg) <= 1) and (0. <= abg <= 1.)\n",
    "    return isInside\n",
    "\n",
    "def basisEvalTri(v, f, X, v_id, f_id):\n",
    "    '''\n",
    "    Input:\n",
    "    - v    : position of the vertices of the mesh (nV, 3)\n",
    "    - f    : indices of the element's vertices (nE, 3)\n",
    "    - X    : position of the point for which we test belonging\n",
    "    - v_id : vertex id of the basis function\n",
    "    - f_id : face id of the \n",
    "    \n",
    "    Output:\n",
    "    - val : value of the basis function at X\n",
    "    '''\n",
    "    # Permute indices so that the first row in Xtri (see bellow) is v_id\n",
    "    # This is done so that the we preserve the sign of the signed area\n",
    "    nPerm   = np.argwhere(f[f_id] == v_id)[0, 0]\n",
    "    idxPerm = [(i+nPerm)%f.shape[1] for i in range(f.shape[1])]\n",
    "    \n",
    "    # Select with permutation\n",
    "    Xtri    = v[f[f_id]][idxPerm, :]\n",
    "    \n",
    "    # Compute gradients\n",
    "    dirOrt  = (Xtri[1, :] - Xtri[2, :]) / np.linalg.norm(Xtri[1, :] - Xtri[2, :])\n",
    "    gradDir = (Xtri[0, :] - Xtri[1, :]) - dirOrt @ (Xtri[0, :] - Xtri[1, :]) * dirOrt\n",
    "    grad    = gradDir / (gradDir @ (Xtri[0, :] - Xtri[1, :]))\n",
    "    \n",
    "    # Compute value:\n",
    "    val = grad @ (X - Xtri[1, :])\n",
    "    \n",
    "    return val\n",
    "\n",
    "def basisEvalTet(v, t, X, v_id, t_id):\n",
    "    '''\n",
    "    Input:\n",
    "    - v    : position of the vertices of the mesh (nV, 3)\n",
    "    - t    : indices of the element's vertices (nE, 4)\n",
    "    - X    : position of the point for which we test belonging\n",
    "    - v_id : vertex id of the basis function\n",
    "    - t_id : face id of the tetrahedron\n",
    "    \n",
    "    Output:\n",
    "    - val : value of the basis function at X\n",
    "    '''\n",
    "    # Permute indices so that the first row in Xtet (see bellow) is v_id\n",
    "    # This is done so that the we preserve the sign of the signed volume\n",
    "    nPerm   = np.argwhere(t[t_id] == v_id)[0, 0]\n",
    "    idxPerm = [(i+nPerm)%t.shape[1] for i in range(t.shape[1])]\n",
    "    \n",
    "    # Select with permutation\n",
    "    Xtet    = v[t[t_id]][idxPerm, :]\n",
    "    \n",
    "    # Compute gradients\n",
    "    gradDir = np.cross(Xtet[2, :] - Xtet[1, :], Xtet[3, :] - Xtet[1, :])\n",
    "    grad    = gradDir / (gradDir @ (Xtet[0, :] - Xtet[1, :]))\n",
    "    \n",
    "    # Compute value:\n",
    "    val = grad @ (X - Xtet[1, :])\n",
    "    \n",
    "    return val"
   ]
  },
  {
   "cell_type": "code",
   "execution_count": 5,
   "id": "73684034",
   "metadata": {},
   "outputs": [
    {
     "data": {
      "image/png": "[encoded data removed]",
      "text/plain": [
       "<Figure size 576x576 with 2 Axes>"
      ]
     },
     "metadata": {
      "needs_background": "light"
     },
     "output_type": "display_data"
    }
   ],
   "source": [
    "testV = np.array([[0., 0., 0.],\n",
    "                  [0., 1., 0.],\n",
    "                  [2., 0., 0.]])\n",
    "\n",
    "testF = np.array([[0, 1, 2]])\n",
    "\n",
    "# Barycentric coordinates\n",
    "as_, bs_ = np.linspace(0, 1), np.linspace(0, 1)\n",
    "\n",
    "abgs = []\n",
    "for a in as_:\n",
    "    for b in bs_:\n",
    "        g = 1. - a - b\n",
    "        if g >= 0:\n",
    "            abgs.append([a, b, g])\n",
    "                \n",
    "ABGs = np.array(abgs)\n",
    "\n",
    "# Points coordinates\n",
    "pointsPlot = ABGs @ testV[testF[0]]\n",
    "\n",
    "# Compute basis function value\n",
    "vals = np.zeros(shape=pointsPlot.shape[0])\n",
    "for i, point in enumerate(pointsPlot):\n",
    "    vals[i] = basisEvalTri(testV, testF, point, 0, 0)\n",
    "\n",
    "plt.figure(figsize=(8, 8))\n",
    "sc = plt.scatter(pointsPlot[:, 0], pointsPlot[:, 1], c=vals)\n",
    "plt.colorbar(sc)\n",
    "plt.axis('equal')\n",
    "plt.show()"
   ]
  },
  {
   "cell_type": "markdown",
   "id": "dbe6a641",
   "metadata": {},
   "source": [
    "## Gradients"
   ]
  },
  {
   "cell_type": "code",
   "execution_count": 6,
   "id": "d5a6873b",
   "metadata": {},
   "outputs": [],
   "source": [
    "def basisGradEvalTri(v, f, X, v_id, f_id):\n",
    "    '''\n",
    "    Input:\n",
    "    - v    : position of the vertices of the mesh (nV, 3)\n",
    "    - f    : indices of the element's vertices (nE, 3)\n",
    "    - X    : position of the point for which we test belonging\n",
    "    - v_id : vertex id of the basis function\n",
    "    - f_id : face id of the \n",
    "    \n",
    "    Output:\n",
    "    - grad : value of the gradient of the basis function at X\n",
    "    '''\n",
    "    # Permute indices so that the first row in Xtri (see bellow) is v_id\n",
    "    # This is done so that the we preserve the sign of the signed area\n",
    "    nPerm   = np.argwhere(f[f_id] == v_id)[0, 0]\n",
    "    idxPerm = [(i+nPerm)%f.shape[1] for i in range(f.shape[1])]\n",
    "    \n",
    "    # Select with permutation\n",
    "    Xtri    = v[f[f_id]][idxPerm, :]\n",
    "    \n",
    "    # Compute gradients\n",
    "    dirOrt  = (Xtri[1, :] - Xtri[2, :]) / np.linalg.norm(Xtri[1, :] - Xtri[2, :])\n",
    "    gradDir = (Xtri[0, :] - Xtri[1, :]) - dirOrt @ (Xtri[0, :] - Xtri[1, :]) * dirOrt\n",
    "    grad    = gradDir / (gradDir @ (Xtri[0, :] - Xtri[1, :]) + 1e-5)\n",
    "    \n",
    "    return grad\n",
    "\n",
    "def basisGradEvalTet(v, t, X, v_id, t_id):\n",
    "    '''\n",
    "    Input:\n",
    "    - v    : position of the vertices of the mesh (nV, 3)\n",
    "    - t    : indices of the element's vertices (nE, 4)\n",
    "    - X    : position of the point for which we test belonging\n",
    "    - v_id : vertex id of the basis function\n",
    "    - t_id : tet id\n",
    "    \n",
    "    Output:\n",
    "    - grad : value of the gradient of the basis function at X\n",
    "    '''\n",
    "    # Permute indices so that the first row in Xtet (see bellow) is v_id\n",
    "    # This is done so that the we preserve the sign of the signed volume\n",
    "    nPerm   = np.argwhere(t[t_id] == v_id)[0, 0]\n",
    "    idxPerm = [(i+nPerm)%t.shape[1] for i in range(t.shape[1])]\n",
    "    \n",
    "    # Select with permutation\n",
    "    Xtet    = v[t[t_id]][idxPerm, :]\n",
    "    \n",
    "    # Compute gradients\n",
    "    gradDir = np.cross(Xtet[2, :] - Xtet[1, :], Xtet[3, :] - Xtet[1, :])\n",
    "    grad    = gradDir / (gradDir @ (Xtet[0, :] - Xtet[1, :]))\n",
    "    \n",
    "    return grad"
   ]
  },
  {
   "cell_type": "markdown",
   "id": "f4936b29",
   "metadata": {},
   "source": [
    "# Explicit time integration\n",
    "\n",
    "## Precomputation"
   ]
  },
  {
   "cell_type": "code",
   "execution_count": 7,
   "id": "436b7576",
   "metadata": {},
   "outputs": [
    {
     "name": "stdout",
     "output_type": "stream",
     "text": [
      "Proportion of positive volumes: 1.00\n"
     ]
    }
   ],
   "source": [
    "eo.Precomputation()\n",
    "print(\"Proportion of positive volumes: {:.2f}\".format(np.mean(eo.initVols > 0)))"
   ]
  },
  {
   "cell_type": "markdown",
   "id": "6810ac32",
   "metadata": {},
   "source": [
    "## Elastic Forces"
   ]
  },
  {
   "cell_type": "code",
   "execution_count": 8,
   "id": "8eca0222",
   "metadata": {},
   "outputs": [
    {
     "data": {
      "application/vnd.jupyter.widget-view+json": {
       "model_id": "d8d24f8c3a50413db44c5df031a48d7b",
       "version_major": 2,
       "version_minor": 0
      },
      "text/plain": [
       "Renderer(camera=PerspectiveCamera(children=(DirectionalLight(color='white', intensity=0.6, position=(-0.011188…"
      ]
     },
     "metadata": {},
     "output_type": "display_data"
    },
    {
     "data": {
      "text/plain": [
       "1"
      ]
     },
     "execution_count": 8,
     "metadata": {},
     "output_type": "execute_result"
    }
   ],
   "source": [
    "randPert = 0.02 * np.random.uniform(low=-1., high=1., size=v.shape)\n",
    "forces = eo.ComputeElasticForces(v + randPert)\n",
    "\n",
    "p = mp.plot(v + randPert, t, shading=shadingOptions)\n",
    "p.add_lines(v + randPert, v + randPert + 1e-7*forces)"
   ]
  },
  {
   "cell_type": "markdown",
   "id": "2596d03c",
   "metadata": {},
   "source": [
    "## Explicit time integration"
   ]
  },
  {
   "cell_type": "code",
   "execution_count": 9,
   "id": "ac2cb452",
   "metadata": {
    "scrolled": false
   },
   "outputs": [
    {
     "data": {
      "application/vnd.jupyter.widget-view+json": {
       "model_id": "562ab79fa84845089bfef0b115a57c39",
       "version_major": 2,
       "version_minor": 0
      },
      "text/plain": [
       "Renderer(camera=PerspectiveCamera(children=(DirectionalLight(color='white', intensity=0.6, position=(0.0020766…"
      ]
     },
     "metadata": {},
     "output_type": "display_data"
    }
   ],
   "source": [
    "# %%capture\n",
    "\n",
    "randPert = 0.04 * np.random.uniform(low=-1., high=1., size=v.shape)\n",
    "initPert = np.zeros_like(v)\n",
    "initPert[110, 1] = 0.1\n",
    "nSteps   = 10\n",
    "dt       = 1e-6\n",
    "\n",
    "# vTmp    = v + randPert\n",
    "vTmp    = v + initPert\n",
    "velTmp  = np.zeros(shape=vTmp.shape)\n",
    "\n",
    "for step in range(nSteps):\n",
    "    display.clear_output(wait=True)\n",
    "    forces  = eo.ComputeElasticForces(vTmp)\n",
    "    massTmp = np.diag(eo.ComputeMassMatrix(vTmp, lumped=True))\n",
    "    velTmp += dt * np.diag(1 / (rho * massTmp)) @ forces # only works for diagonal matrices\n",
    "    vTmp   += dt * velTmp\n",
    "    p = mp.plot(vTmp, t, shading=shadingOptions)\n",
    "#     p.save(\"output/explicitSphere/step{}\".format(step))\n",
    "    time.sleep(0.001)"
   ]
  },
  {
   "cell_type": "markdown",
   "id": "a8568c08",
   "metadata": {},
   "source": [
    "# Implicit time integration\n",
    "\n",
    "## Mass matrix computation"
   ]
  },
  {
   "cell_type": "code",
   "execution_count": 10,
   "id": "f518065e",
   "metadata": {},
   "outputs": [
    {
     "data": {
      "text/plain": [
       "array([[0.00063649, 0.        , 0.        , 0.        , 0.        ],\n",
       "       [0.        , 0.00215548, 0.        , 0.        , 0.        ],\n",
       "       [0.        , 0.        , 0.0015907 , 0.        , 0.        ],\n",
       "       [0.        , 0.        , 0.        , 0.00243047, 0.        ],\n",
       "       [0.        , 0.        , 0.        , 0.        , 0.00156046]])"
      ]
     },
     "execution_count": 10,
     "metadata": {},
     "output_type": "execute_result"
    }
   ],
   "source": [
    "mass = eo.ComputeMassMatrix(v, lumped=True)\n",
    "mass[:5, :5]"
   ]
  },
  {
   "cell_type": "markdown",
   "id": "d2e7b6ee",
   "metadata": {},
   "source": [
    "## Force differential"
   ]
  },
  {
   "cell_type": "code",
   "execution_count": 11,
   "id": "81897b1e",
   "metadata": {},
   "outputs": [
    {
     "name": "stdout",
     "output_type": "stream",
     "text": [
      "(198, 3)\n"
     ]
    }
   ],
   "source": [
    "initPert = np.zeros_like(v)\n",
    "initPert[110, 1] = 0.1\n",
    "\n",
    "dForces = eo.ComputeForceDifferentials(v + initPert, initPert)\n",
    "print(dForces.shape)"
   ]
  },
  {
   "cell_type": "markdown",
   "id": "dc91df3e",
   "metadata": {},
   "source": [
    "## Conjugate Gradient"
   ]
  },
  {
   "cell_type": "code",
   "execution_count": 12,
   "id": "40bdc2ce",
   "metadata": {},
   "outputs": [],
   "source": [
    "def ConjugateGradient(AxMethod, b, x0=None, eps=1e-9, maxSteps=None):\n",
    "    '''\n",
    "    We intend to solve Ax = b where A is positive definite.\n",
    "    A has shape (dim, dim), x and b have shape (dim, n).\n",
    "    \n",
    "    \n",
    "    Input:\n",
    "    - AxMethod : a method that takes x and returns the product Ax\n",
    "    - b        : right hand side of the linear system\n",
    "    - x0       : initial guess for x0 (defaults to 0s)\n",
    "    - eps      : tolerance on the residual magnitude\n",
    "    - maxSteps : maximum number of steps one wants to run (defaults to dim)\n",
    "    \n",
    "    Output:\n",
    "    - xStar : np array of shape (dim, n) solving the linear system\n",
    "    '''\n",
    "    \n",
    "    dim, n = b.shape\n",
    "    if maxSteps is None:\n",
    "        maxSteps = dim\n",
    "        \n",
    "    if x0 is None:\n",
    "        xStar = np.zeros_like(b)\n",
    "    else:\n",
    "        xStar = x0\n",
    "        \n",
    "    residuals  = b - AxMethod(xStar)\n",
    "    directions = residuals\n",
    "    \n",
    "    # Reusable quantities\n",
    "    A_directions = AxMethod(directions) # A p\n",
    "    resNormsSq   = np.sum(residuals**2, axis=0) # r^T r\n",
    "    dirNormsSqA  = np.zeros(shape=(n,)) # stores p^T A p\n",
    "    for i in range(n):\n",
    "        dirNormsSqA[i] = directions[:, i] @ A_directions[:, i]\n",
    "    \n",
    "    for k in range(maxSteps):\n",
    "\n",
    "        alphas     = resNormsSq / dirNormsSqA\n",
    "\n",
    "        xStar     = xStar + directions * alphas\n",
    "        residuals = residuals - A_directions * alphas\n",
    "        \n",
    "        newResNormsSq = np.sum(residuals**2, axis=0)\n",
    "        if max(np.sqrt(newResNormsSq)) < eps:\n",
    "            # Stop if tolerance is satisfied\n",
    "            break\n",
    "            \n",
    "        betas      = newResNormsSq / resNormsSq\n",
    "        directions = residuals + directions * betas\n",
    "        A_directions = AxMethod(directions)\n",
    "        resNormsSq   = newResNormsSq\n",
    "        for i in range(n):\n",
    "            dirNormsSqA[i] = directions[:, i] @ A_directions[:, i]\n",
    "        \n",
    "    return xStar"
   ]
  },
  {
   "cell_type": "markdown",
   "id": "a4913462",
   "metadata": {},
   "source": [
    "### Testing on a simple case"
   ]
  },
  {
   "cell_type": "code",
   "execution_count": 13,
   "id": "246c76f8",
   "metadata": {},
   "outputs": [
    {
     "name": "stdout",
     "output_type": "stream",
     "text": [
      "Number of non positive eigenvalues: 0\n",
      "\n",
      "==== Solution found by scipy ====\n",
      "Residual norm: 0.000\n",
      "The solution is: [  9.82521065  -1.69263437 -10.46174758]\n",
      "\n",
      "==== Solution found by homemade method ====\n",
      "Residual norm: 0.000\n",
      "The solution is: [[  9.82521065]\n",
      " [ -1.69263437]\n",
      " [-10.46174758]]\n"
     ]
    },
    {
     "name": "stderr",
     "output_type": "stream",
     "text": [
      "/Users/qbecker/opt/anaconda3/envs/gcm_env/lib/python3.7/site-packages/scipy/sparse/linalg/eigen/arpack/arpack.py:1595: RuntimeWarning: k >= N for N * N square matrix. Attempting to use scipy.linalg.eigh instead.\n",
      "  RuntimeWarning)\n"
     ]
    }
   ],
   "source": [
    "from scipy.sparse.linalg import cg, eigsh, LinearOperator\n",
    "\n",
    "randMat = np.random.rand(3, 3)\n",
    "A = randMat @ randMat.T + 1e-3 * np.eye(randMat.shape[0]) # Make it positive definite\n",
    "w = eigsh(A, return_eigenvectors=False)\n",
    "print(\"Number of non positive eigenvalues: {}\\n\".format(sum(w<=0)))\n",
    "b = np.random.rand(3, 1)\n",
    "\n",
    "AxMethod = lambda x: A @ x\n",
    "LOp = LinearOperator(A.shape, AxMethod)\n",
    "\n",
    "solScipy, info = cg(LOp, b)\n",
    "print(\"==== Solution found by scipy ====\")\n",
    "print(\"Residual norm: {:.3f}\".format(np.linalg.norm(A @ solScipy.reshape(-1, b.shape[1]) - b)))\n",
    "print(\"The solution is: {}\\n\".format(solScipy))\n",
    "\n",
    "sol = ConjugateGradient(AxMethod, b, x0=None, eps=1e-9, maxSteps=None)\n",
    "print(\"==== Solution found by homemade method ====\")\n",
    "print(\"Residual norm: {:.3f}\".format(np.linalg.norm(A @ sol - b)))\n",
    "print(\"The solution is: {}\".format(sol))"
   ]
  },
  {
   "cell_type": "markdown",
   "id": "17b103fe",
   "metadata": {},
   "source": [
    "## Implicit time integration"
   ]
  },
  {
   "cell_type": "code",
   "execution_count": 14,
   "id": "f59dea1b",
   "metadata": {},
   "outputs": [
    {
     "data": {
      "application/vnd.jupyter.widget-view+json": {
       "model_id": "0a94ec09bbd64f758184c0cbe6293de9",
       "version_major": 2,
       "version_minor": 0
      },
      "text/plain": [
       "Renderer(camera=PerspectiveCamera(children=(DirectionalLight(color='white', intensity=0.6, position=(0.0021988…"
      ]
     },
     "metadata": {},
     "output_type": "display_data"
    }
   ],
   "source": [
    "# %%capture\n",
    "\n",
    "randPert  = 0.04 * np.random.uniform(low=-1., high=1., size=v.shape)\n",
    "initPert = np.zeros_like(v)\n",
    "initPert[110, 1] = 0.1\n",
    "nSteps    = 50\n",
    "nSubsteps = 2\n",
    "dt        = 3e-6  # [s]\n",
    "gamma     = 0     # should be turned off, this doesn't work yet [s]\n",
    "\n",
    "# vTmp    = v + randPert\n",
    "vTmp    = v + initPert\n",
    "velTmp  = np.zeros(shape=vTmp.shape)\n",
    "\n",
    "velTmpCorrection = velTmp\n",
    "vTmpCorrection   = vTmp\n",
    "deltaV = np.zeros_like(vTmp)\n",
    "\n",
    "for step in range(nSteps):\n",
    "    display.clear_output(wait=True)\n",
    "    for substep in range(nSubsteps):\n",
    "        # Mass matrix\n",
    "        massTmp = eo.rho * eo.ComputeMassMatrix(vTmp, lumped=True)\n",
    "        # Damping \n",
    "        dForces = - gamma * eo.ComputeForceDifferentials(vTmpCorrection, velTmpCorrection)\n",
    "        #Elastic\n",
    "        eForces  = eo.ComputeElasticForces(vTmpCorrection)\n",
    "        #Total\n",
    "        totForces = eForces + dForces\n",
    "        \n",
    "        #Invert system\n",
    "        LHSMethod = lambda dV : (1/dt**2 * massTmp @ dV + (1 + gamma/dt) * eo.ComputeForceDifferentials(vTmpCorrection, dV))\n",
    "        RHS    = 1/dt * massTmp @ (velTmp - velTmpCorrection) + totForces\n",
    "        deltaV = ConjugateGradient(LHSMethod, RHS, x0=None, maxSteps=None, eps=1e-3)\n",
    "        \n",
    "        #Update position and velocities\n",
    "        vTmpCorrection   += deltaV\n",
    "        velTmpCorrection += deltaV / dt\n",
    "    \n",
    "    #Update position and velocities, then start a new time step\n",
    "    vTmp   = vTmpCorrection\n",
    "    velTmp = velTmpCorrection\n",
    "    \n",
    "    p = mp.plot(vTmp, t, shading=shadingOptions)\n",
    "#     p.save(\"output/explicitSphere/step{}\".format(step))\n",
    "    time.sleep(0.02)"
   ]
  },
  {
   "cell_type": "code",
   "execution_count": null,
   "id": "4d04a44f",
   "metadata": {},
   "outputs": [],
   "source": []
  }
 ],
 "metadata": {
  "kernelspec": {
   "display_name": "Python 3",
   "language": "python",
   "name": "python3"
  },
  "language_info": {
   "codemirror_mode": {
    "name": "ipython",
    "version": 3
   },
   "file_extension": ".py",
   "mimetype": "text/x-python",
   "name": "python",
   "nbconvert_exporter": "python",
   "pygments_lexer": "ipython3",
   "version": "3.7.10"
  },
  "toc": {
   "base_numbering": 1,
   "nav_menu": {},
   "number_sections": true,
   "sideBar": true,
   "skip_h1_title": false,
   "title_cell": "Table of Contents",
   "title_sidebar": "Contents",
   "toc_cell": false,
   "toc_position": {},
   "toc_section_display": true,
   "toc_window_display": false
  }
 },
 "nbformat": 4,
 "nbformat_minor": 5
}
