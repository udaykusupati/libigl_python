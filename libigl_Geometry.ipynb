{
 "cells": [
  {
   "cell_type": "markdown",
   "metadata": {},
   "source": [
    "# Description\n",
    "\n",
    "This notebook is meant to test functionalities of libigl out. Code is mostly taken from: https://geometryprocessing.github.io/blackbox-computing-python/geo_viz/.\n",
    "\n",
    "# Load libraries\n",
    "\n",
    "It seems like igl cannot be imported from jupyter lab for some reason. It seems to work fine with jupyter notebook and plain python files."
   ]
  },
  {
   "cell_type": "code",
   "execution_count": 1,
   "metadata": {},
   "outputs": [],
   "source": [
    "import igl\n",
    "import scipy as sp\n",
    "import numpy as np\n",
    "import meshplot as mp"
   ]
  },
  {
   "cell_type": "markdown",
   "metadata": {},
   "source": [
    "# Plot two triangles"
   ]
  },
  {
   "cell_type": "code",
   "execution_count": 2,
   "metadata": {},
   "outputs": [
    {
     "data": {
      "application/vnd.jupyter.widget-view+json": {
       "model_id": "7010507a217f4cd79cd9c4912701a5d1",
       "version_major": 2,
       "version_minor": 0
      },
      "text/plain": [
       "Renderer(camera=PerspectiveCamera(children=(DirectionalLight(color='white', intensity=0.6, position=(1.0, 0.5,…"
      ]
     },
     "metadata": {},
     "output_type": "display_data"
    },
    {
     "data": {
      "text/plain": [
       "<meshplot.Viewer.Viewer at 0x7f8cd22714c0>"
      ]
     },
     "execution_count": 2,
     "metadata": {},
     "output_type": "execute_result"
    }
   ],
   "source": [
    "V = np.array([\n",
    "    [0., 0, 0],\n",
    "    [1, 0, 0],\n",
    "    [1, 1, 1],\n",
    "    [2, 1, 0]\n",
    "])\n",
    "\n",
    "F = np.array([\n",
    "    [0, 1, 2],\n",
    "    [1, 3, 2]\n",
    "])\n",
    "\n",
    "mp.plot(V, F)"
   ]
  },
  {
   "cell_type": "markdown",
   "metadata": {},
   "source": [
    "# Load data"
   ]
  },
  {
   "cell_type": "code",
   "execution_count": 3,
   "metadata": {
    "scrolled": false
   },
   "outputs": [
    {
     "name": "stdout",
     "output_type": "stream",
     "text": [
      "===== Characteristics of the mesh =====\n",
      "Number of vertices: 66\n",
      "Number of faces: 128\n"
     ]
    },
    {
     "data": {
      "application/vnd.jupyter.widget-view+json": {
       "model_id": "9e03eace79c141158c8e954b1d2b7745",
       "version_major": 2,
       "version_minor": 0
      },
      "text/plain": [
       "Renderer(camera=PerspectiveCamera(children=(DirectionalLight(color='white', intensity=0.6, position=(0.0, 0.5,…"
      ]
     },
     "metadata": {},
     "output_type": "display_data"
    },
    {
     "data": {
      "text/plain": [
       "<meshplot.Viewer.Viewer at 0x7f8cd2271910>"
      ]
     },
     "execution_count": 3,
     "metadata": {},
     "output_type": "execute_result"
    }
   ],
   "source": [
    "# Read oloid and retrieve shape\n",
    "v, f = igl.read_triangle_mesh(\"meshes/oloid64_tri.obj\")\n",
    "print(\"===== Characteristics of the mesh =====\")\n",
    "print(\"Number of vertices: {}\".format(v.shape[0]))\n",
    "print(\"Number of faces: {}\".format(f.shape[0]))\n",
    "\n",
    "# Write oloid\n",
    "igl.write_triangle_mesh(\"meshes/oloid64_written.off\", v, f)\n",
    "\n",
    "# Visualize oloid\n",
    "mp.plot(v, f)"
   ]
  },
  {
   "cell_type": "code",
   "execution_count": 4,
   "metadata": {},
   "outputs": [
    {
     "name": "stdout",
     "output_type": "stream",
     "text": [
      "===== Characteristics of the mesh =====\n",
      "Number of vertices: 5744\n",
      "Number of faces: 11392\n"
     ]
    },
    {
     "data": {
      "application/vnd.jupyter.widget-view+json": {
       "model_id": "1812bb81e5144a669406ba76376d59de",
       "version_major": 2,
       "version_minor": 0
      },
      "text/plain": [
       "Renderer(camera=PerspectiveCamera(children=(DirectionalLight(color='white', intensity=0.6, position=(0.0067104…"
      ]
     },
     "metadata": {},
     "output_type": "display_data"
    },
    {
     "data": {
      "text/plain": [
       "<meshplot.Viewer.Viewer at 0x7f8cd22a6c40>"
      ]
     },
     "execution_count": 4,
     "metadata": {},
     "output_type": "execute_result"
    }
   ],
   "source": [
    "# Read pig and retrieve shape\n",
    "v, f = igl.read_triangle_mesh(\"meshes/pig.obj\")\n",
    "print(\"===== Characteristics of the mesh =====\")\n",
    "print(\"Number of vertices: {}\".format(v.shape[0]))\n",
    "print(\"Number of faces: {}\".format(f.shape[0]))\n",
    "\n",
    "# Visualize pig\n",
    "mp.plot(v, f)"
   ]
  },
  {
   "cell_type": "markdown",
   "metadata": {},
   "source": [
    "# Compute normals\n",
    "\n",
    "## Face normals"
   ]
  },
  {
   "cell_type": "code",
   "execution_count": 5,
   "metadata": {
    "scrolled": false
   },
   "outputs": [
    {
     "name": "stdout",
     "output_type": "stream",
     "text": [
      "Shape of the face normals: (11392, 3)\n"
     ]
    },
    {
     "data": {
      "application/vnd.jupyter.widget-view+json": {
       "model_id": "cc99e0119c694a90bc2b95cb6c5a7cf8",
       "version_major": 2,
       "version_minor": 0
      },
      "text/plain": [
       "Renderer(camera=PerspectiveCamera(children=(DirectionalLight(color='white', intensity=0.6, position=(0.0067104…"
      ]
     },
     "metadata": {},
     "output_type": "display_data"
    },
    {
     "data": {
      "text/plain": [
       "<meshplot.Viewer.Viewer at 0x7f8cd22a60a0>"
      ]
     },
     "execution_count": 5,
     "metadata": {},
     "output_type": "execute_result"
    }
   ],
   "source": [
    "nf = igl.per_face_normals(v, f, np.zeros(3))\n",
    "print(\"Shape of the face normals: {}\".format(nf.shape))\n",
    "mp.plot(v, f, c=np.abs(nf), shading={\"roughness\": 1.0})"
   ]
  },
  {
   "cell_type": "markdown",
   "metadata": {},
   "source": [
    "## Vertex normal"
   ]
  },
  {
   "cell_type": "code",
   "execution_count": 6,
   "metadata": {},
   "outputs": [
    {
     "name": "stdout",
     "output_type": "stream",
     "text": [
      "Shape of the vertex normals: (5744, 3)\n"
     ]
    },
    {
     "data": {
      "application/vnd.jupyter.widget-view+json": {
       "model_id": "5e80f4eec8a1487392186a2531ac1cfb",
       "version_major": 2,
       "version_minor": 0
      },
      "text/plain": [
       "Renderer(camera=PerspectiveCamera(children=(DirectionalLight(color='white', intensity=0.6, position=(0.0067104…"
      ]
     },
     "metadata": {},
     "output_type": "display_data"
    },
    {
     "data": {
      "text/plain": [
       "1"
      ]
     },
     "execution_count": 6,
     "metadata": {},
     "output_type": "execute_result"
    }
   ],
   "source": [
    "nv = igl.per_vertex_normals(v, f)\n",
    "print(\"Shape of the vertex normals: {}\".format(nv.shape))\n",
    "\n",
    "p = mp.plot(v, f, c=np.abs(nv), shading={\"roughness\": 1.0})\n",
    "p.add_lines(v, v + nv * 2e-2)"
   ]
  },
  {
   "cell_type": "markdown",
   "metadata": {},
   "source": [
    "# Curvature"
   ]
  },
  {
   "cell_type": "markdown",
   "metadata": {},
   "source": [
    "## Compute curvature"
   ]
  },
  {
   "cell_type": "code",
   "execution_count": 7,
   "metadata": {},
   "outputs": [
    {
     "name": "stdout",
     "output_type": "stream",
     "text": [
      "First principal directions shape: (5744, 3)\n",
      "First principal curvature shape: (5744,)\n"
     ]
    },
    {
     "data": {
      "application/vnd.jupyter.widget-view+json": {
       "model_id": "29bcb15f3e034236a9e4e4c46e2b9cbb",
       "version_major": 2,
       "version_minor": 0
      },
      "text/plain": [
       "Renderer(camera=PerspectiveCamera(children=(DirectionalLight(color='white', intensity=0.6, position=(0.0067104…"
      ]
     },
     "metadata": {},
     "output_type": "display_data"
    },
    {
     "data": {
      "text/plain": [
       "2"
      ]
     },
     "execution_count": 7,
     "metadata": {},
     "output_type": "execute_result"
    }
   ],
   "source": [
    "# Calculate principal curvature\n",
    "d1, d2, k1, k2 = igl.principal_curvature(v, f)\n",
    "print(\"First principal directions shape: {}\".format(d1.shape))\n",
    "print(\"First principal curvature shape: {}\".format(k1.shape))\n",
    "\n",
    "# Calculate mean curvature for color coding\n",
    "mean_curv = 0.5 * (k1 + k2)\n",
    "\n",
    "p = mp.plot(v, f, c=mean_curv)\n",
    "\n",
    "p.add_lines(v + d1 * 1e-2, v - d1 * 1e-2, shading={\"line_color\": \"red\"})\n",
    "p.add_lines(v + d2 * 1e-2, v - d2 * 1e-2, shading={\"line_color\": \"yellow\"})"
   ]
  },
  {
   "cell_type": "markdown",
   "metadata": {},
   "source": [
    "## Save results"
   ]
  },
  {
   "cell_type": "code",
   "execution_count": 8,
   "metadata": {},
   "outputs": [
    {
     "data": {
      "application/vnd.jupyter.widget-view+json": {
       "model_id": "ea9bcc87ba4e4b0c8ca5023145c67def",
       "version_major": 2,
       "version_minor": 0
      },
      "text/plain": [
       "Renderer(camera=PerspectiveCamera(children=(DirectionalLight(color='white', intensity=0.6, position=(0.0067104…"
      ]
     },
     "metadata": {},
     "output_type": "display_data"
    },
    {
     "name": "stdout",
     "output_type": "stream",
     "text": [
      "Plot saved to file output/testPig.html.\n"
     ]
    }
   ],
   "source": [
    "p = mp.plot(v, f, c=np.random.rand(*f.shape), filename=\"output/testPig.html\")\n",
    "p.save(\"output/testPig.html\")"
   ]
  },
  {
   "cell_type": "markdown",
   "metadata": {},
   "source": [
    "# Mesh Statistics"
   ]
  },
  {
   "cell_type": "code",
   "execution_count": 9,
   "metadata": {},
   "outputs": [
    {
     "name": "stdout",
     "output_type": "stream",
     "text": [
      "Irregular vertices:\n",
      "5660/5744 (98.54%)\n",
      "\n",
      "Areas Min/Max/Sigma: \n",
      "0.00/11.74/1.51\n",
      "\n",
      "Angles in degrees Min/Max/Avg/Sigma: \n",
      "2.07/173.09/60.00/29.67\n",
      "\n",
      "Some array shapes:\n",
      "Areas shape: (11392,)\n",
      "Angles shape: (11392, 3)\n"
     ]
    }
   ],
   "source": [
    "# Irregular vertices, the border is ignored\n",
    "irregular = igl.is_irregular_vertex(v, f) \n",
    "irregular_ratio = np.sum(irregular) / v.shape[0]\n",
    "print(\"Irregular vertices:\\n%d/%d (%.2f%%)\\n\"%\n",
    "      (np.sum(irregular), v.shape[0], irregular_ratio * 100))\n",
    "\n",
    "# Compute areas, min, max and std\n",
    "area = igl.doublearea(v, f) / 2.0\n",
    "area_avg = np.mean(area)\n",
    "area_min = np.min(area) / area_avg\n",
    "area_max = np.max(area) / area_avg\n",
    "area_ns = (area - area_avg) / area_avg\n",
    "area_sigma = np.sqrt(np.mean(np.square(area_ns)))\n",
    "print(\"Areas Min/Max/Sigma: \\n%.2f/%.2f/%.2f\\n\"%\n",
    "      (area_min, area_max, area_sigma))\n",
    "\n",
    "# Compute per face angles, min, max and std\n",
    "angles = igl.internal_angles(v, f)\n",
    "angles = 360.0 * (angles / (2 * np.pi))\n",
    "angle_avg = np.mean(angles)\n",
    "angle_min = np.min(angles)\n",
    "angle_max = np.max(angles)\n",
    "angle_ns = angles - angle_avg\n",
    "angle_sigma = np.sqrt(np.mean(np.square(angle_ns)))\n",
    "\n",
    "print(\"Angles in degrees Min/Max/Avg/Sigma: \\n%.2f/%.2f/%.2f/%.2f\\n\"%\n",
    "      (angle_min, angle_max, angle_avg, angle_sigma))\n",
    "\n",
    "print(\"Some array shapes:\")\n",
    "print(\"Areas shape: {}\".format(area.shape))\n",
    "print(\"Angles shape: {}\".format(angles.shape))\n"
   ]
  },
  {
   "cell_type": "markdown",
   "metadata": {},
   "source": [
    "# Texture Mapping"
   ]
  },
  {
   "cell_type": "code",
   "execution_count": 79,
   "metadata": {},
   "outputs": [
    {
     "data": {
      "text/plain": [
       "1.2355555555555555"
      ]
     },
     "execution_count": 79,
     "metadata": {},
     "output_type": "execute_result"
    }
   ],
   "source": [
    "2/3 * 2780 / 150 /10"
   ]
  },
  {
   "cell_type": "markdown",
   "metadata": {},
   "source": [
    "# Laplacian Smoothing"
   ]
  },
  {
   "cell_type": "code",
   "execution_count": 18,
   "metadata": {
    "scrolled": false
   },
   "outputs": [
    {
     "data": {
      "application/vnd.jupyter.widget-view+json": {
       "model_id": "4d12c065b72d40529ff78fc0d919fc9f",
       "version_major": 2,
       "version_minor": 0
      },
      "text/plain": [
       "Renderer(camera=PerspectiveCamera(children=(DirectionalLight(color='white', intensity=0.6, position=(-0.102102…"
      ]
     },
     "metadata": {},
     "output_type": "display_data"
    },
    {
     "name": "stdout",
     "output_type": "stream",
     "text": [
      "Shape of the Cotangent Laplacian array: (5744, 5744)\n"
     ]
    }
   ],
   "source": [
    "from scipy.sparse.linalg import spsolve\n",
    "import time\n",
    "from IPython import display\n",
    "\n",
    "v, f = igl.read_triangle_mesh(\"meshes/pig.obj\")\n",
    "\n",
    "l = igl.cotmatrix(v, f)\n",
    "vs = [v]\n",
    "for i in range(10):\n",
    "    m = igl.massmatrix(v, f, igl.MASSMATRIX_TYPE_BARYCENTRIC)\n",
    "    # Diffusion step (M - dt.L).V_{t+1} = M.V_{t}\n",
    "    v = spsolve(m - 0.001 * l, m.dot(v))\n",
    "    vs.append(v)\n",
    "\n",
    "for vert in vs:\n",
    "    display.clear_output(wait=True)\n",
    "    mp.plot(vert, f)\n",
    "    time.sleep(0.5)\n",
    "    \n",
    "print(\"Shape of the Cotangent Laplacian array: {}\".format(l.shape))"
   ]
  },
  {
   "cell_type": "markdown",
   "metadata": {},
   "source": [
    "# Shape Filtering"
   ]
  },
  {
   "cell_type": "markdown",
   "metadata": {},
   "source": [
    "## Spectral Filtering"
   ]
  },
  {
   "cell_type": "code",
   "execution_count": 24,
   "metadata": {},
   "outputs": [
    {
     "data": {
      "application/vnd.jupyter.widget-view+json": {
       "model_id": "a86c0277dd1c462582376be0e75b2cba",
       "version_major": 2,
       "version_minor": 0
      },
      "text/plain": [
       "Renderer(camera=PerspectiveCamera(children=(DirectionalLight(color='white', intensity=0.6, position=(-0.011995…"
      ]
     },
     "metadata": {},
     "output_type": "display_data"
    },
    {
     "data": {
      "text/plain": [
       "<meshplot.Viewer.Viewer at 0x7f8cbc28ea60>"
      ]
     },
     "execution_count": 24,
     "metadata": {},
     "output_type": "execute_result"
    }
   ],
   "source": [
    "from scipy.sparse.linalg import eigsh\n",
    "\n",
    "v, f = igl.read_triangle_mesh(\"meshes/pig.obj\")\n",
    "l = igl.cotmatrix(v, f)\n",
    "\n",
    "# Keep the smallest 200 eigenvalues (and their corresponding eigenvectors)\n",
    "d, u = eigsh(-l, 200, which=\"SM\")\n",
    "vs = u @ u.T @ v\n",
    "\n",
    "# Project vertices positions on the eigenvectors associated with the smallest eigenvalues\n",
    "mp.plot((u[:, :30] @ u[:, :30].T) @ v, f)"
   ]
  },
  {
   "cell_type": "markdown",
   "metadata": {},
   "source": [
    "## Visualize Eigenvectors"
   ]
  },
  {
   "cell_type": "code",
   "execution_count": 31,
   "metadata": {},
   "outputs": [
    {
     "data": {
      "application/vnd.jupyter.widget-view+json": {
       "model_id": "2adcccda0e554b7ab853e03e99d0b8c7",
       "version_major": 2,
       "version_minor": 0
      },
      "text/plain": [
       "Renderer(camera=PerspectiveCamera(children=(DirectionalLight(color='white', intensity=0.6, position=(0.0067104…"
      ]
     },
     "metadata": {},
     "output_type": "display_data"
    },
    {
     "data": {
      "text/plain": [
       "<meshplot.Viewer.Viewer at 0x7f8c8a6af6d0>"
      ]
     },
     "execution_count": 31,
     "metadata": {},
     "output_type": "execute_result"
    }
   ],
   "source": [
    "n_eigvec = 6\n",
    "v, f = igl.read_triangle_mesh(\"meshes/pig.obj\")\n",
    "mp.plot(v, f, c=u[:, n_eigvec])"
   ]
  },
  {
   "cell_type": "markdown",
   "metadata": {},
   "source": [
    "# Geodesics"
   ]
  },
  {
   "cell_type": "code",
   "execution_count": 32,
   "metadata": {},
   "outputs": [
    {
     "data": {
      "application/vnd.jupyter.widget-view+json": {
       "model_id": "68a46222ac9e473d98646c83bc5b83a5",
       "version_major": 2,
       "version_minor": 0
      },
      "text/plain": [
       "Renderer(camera=PerspectiveCamera(children=(DirectionalLight(color='white', intensity=0.6, position=(0.0067104…"
      ]
     },
     "metadata": {},
     "output_type": "display_data"
    },
    {
     "data": {
      "text/plain": [
       "1"
      ]
     },
     "execution_count": 32,
     "metadata": {},
     "output_type": "execute_result"
    }
   ],
   "source": [
    "v, f = igl.read_triangle_mesh(\"meshes/pig.obj\")\n",
    "\n",
    "# Select a vertex as origin\n",
    "vs = np.array([0])\n",
    "\n",
    "# All vertices are the targets\n",
    "vt = np.arange(v.shape[0])\n",
    "\n",
    "d = igl.exact_geodesic(v, f, vs, vt)\n",
    "\n",
    "# Visualize with periodic function\n",
    "c = np.abs(np.sin((d / 0.03 * np.pi)))\n",
    "p = mp.plot(v, f, c)\n",
    "p.add_points(v[vs], shading={\"point_size\": 0.05})"
   ]
  },
  {
   "cell_type": "code",
   "execution_count": null,
   "metadata": {},
   "outputs": [],
   "source": []
  }
 ],
 "metadata": {
  "kernelspec": {
   "display_name": "Python 3",
   "language": "python",
   "name": "python3"
  },
  "language_info": {
   "codemirror_mode": {
    "name": "ipython",
    "version": 3
   },
   "file_extension": ".py",
   "mimetype": "text/x-python",
   "name": "python",
   "nbconvert_exporter": "python",
   "pygments_lexer": "ipython3",
   "version": "3.9.5"
  },
  "toc": {
   "base_numbering": 1,
   "nav_menu": {},
   "number_sections": true,
   "sideBar": true,
   "skip_h1_title": false,
   "title_cell": "Table of Contents",
   "title_sidebar": "Contents",
   "toc_cell": false,
   "toc_position": {},
   "toc_section_display": true,
   "toc_window_display": false
  }
 },
 "nbformat": 4,
 "nbformat_minor": 4
}
